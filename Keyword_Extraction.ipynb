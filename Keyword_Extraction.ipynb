{
 "cells": [
  {
   "cell_type": "code",
   "execution_count": 14,
   "metadata": {},
   "outputs": [],
   "source": [
    "import numpy as np # linear algebra\n",
    "import pandas as pd # data processing\n",
    "import re\n",
    "from nltk.corpus import stopwords\n",
    "from nltk.stem.wordnet import WordNetLemmatizer\n",
    "from sklearn.feature_extraction.text import CountVectorizer\n",
    "from sklearn.feature_extraction.text import TfidfTransformer"
   ]
  },
  {
   "cell_type": "code",
   "execution_count": 26,
   "metadata": {},
   "outputs": [
    {
     "data": {
      "text/html": [
       "<div>\n",
       "<style scoped>\n",
       "    .dataframe tbody tr th:only-of-type {\n",
       "        vertical-align: middle;\n",
       "    }\n",
       "\n",
       "    .dataframe tbody tr th {\n",
       "        vertical-align: top;\n",
       "    }\n",
       "\n",
       "    .dataframe thead th {\n",
       "        text-align: right;\n",
       "    }\n",
       "</style>\n",
       "<table border=\"1\" class=\"dataframe\">\n",
       "  <thead>\n",
       "    <tr style=\"text-align: right;\">\n",
       "      <th></th>\n",
       "      <th>index</th>\n",
       "      <th>id</th>\n",
       "      <th>title</th>\n",
       "      <th>texts</th>\n",
       "      <th>labels</th>\n",
       "      <th>forum</th>\n",
       "    </tr>\n",
       "  </thead>\n",
       "  <tbody>\n",
       "    <tr>\n",
       "      <th>0</th>\n",
       "      <td>0</td>\n",
       "      <td>7</td>\n",
       "      <td>What do INFJs look for in a relationship?</td>\n",
       "      <td>[\"I'm an INFJ, and so far I have not had any l...</td>\n",
       "      <td>['Dating &amp; Relationships']</td>\n",
       "      <td>Dating &amp; Relationships</td>\n",
       "    </tr>\n",
       "    <tr>\n",
       "      <th>1</th>\n",
       "      <td>1</td>\n",
       "      <td>9</td>\n",
       "      <td>What do you prefer?</td>\n",
       "      <td>[\"I'm a Sexual-Social. I never really used Ins...</td>\n",
       "      <td>['Sexual-Socials', 'Instincts']</td>\n",
       "      <td>Sexual-Socials</td>\n",
       "    </tr>\n",
       "    <tr>\n",
       "      <th>2</th>\n",
       "      <td>2</td>\n",
       "      <td>11</td>\n",
       "      <td>Secure-sexuals...unite!</td>\n",
       "      <td>['Who else is a secure-sexuals out there? Post...</td>\n",
       "      <td>['Sexual-Secures', 'Instincts']</td>\n",
       "      <td>Sexual-Secures</td>\n",
       "    </tr>\n",
       "    <tr>\n",
       "      <th>3</th>\n",
       "      <td>3</td>\n",
       "      <td>12</td>\n",
       "      <td>Which type makes the best actor/performer?</td>\n",
       "      <td>['I used to do theatre...there are a bunch of ...</td>\n",
       "      <td>['General Topics', 'Career &amp; Education']</td>\n",
       "      <td>Career &amp; Education</td>\n",
       "    </tr>\n",
       "    <tr>\n",
       "      <th>4</th>\n",
       "      <td>4</td>\n",
       "      <td>14</td>\n",
       "      <td>What makes you angry</td>\n",
       "      <td>[\"What pisses of ENFJs more than anything else...</td>\n",
       "      <td>['Romantics ', 'ENFJ - Teacher', 'Personality']</td>\n",
       "      <td>ENFJ - Teacher</td>\n",
       "    </tr>\n",
       "  </tbody>\n",
       "</table>\n",
       "</div>"
      ],
      "text/plain": [
       "   index  id                                       title  \\\n",
       "0      0   7   What do INFJs look for in a relationship?   \n",
       "1      1   9                         What do you prefer?   \n",
       "2      2  11                     Secure-sexuals...unite!   \n",
       "3      3  12  Which type makes the best actor/performer?   \n",
       "4      4  14                        What makes you angry   \n",
       "\n",
       "                                               texts  \\\n",
       "0  [\"I'm an INFJ, and so far I have not had any l...   \n",
       "1  [\"I'm a Sexual-Social. I never really used Ins...   \n",
       "2  ['Who else is a secure-sexuals out there? Post...   \n",
       "3  ['I used to do theatre...there are a bunch of ...   \n",
       "4  [\"What pisses of ENFJs more than anything else...   \n",
       "\n",
       "                                            labels                   forum  \n",
       "0                       ['Dating & Relationships']  Dating & Relationships  \n",
       "1                  ['Sexual-Socials', 'Instincts']          Sexual-Socials  \n",
       "2                  ['Sexual-Secures', 'Instincts']          Sexual-Secures  \n",
       "3         ['General Topics', 'Career & Education']      Career & Education  \n",
       "4  ['Romantics ', 'ENFJ - Teacher', 'Personality']          ENFJ - Teacher  "
      ]
     },
     "execution_count": 26,
     "metadata": {},
     "output_type": "execute_result"
    }
   ],
   "source": [
    "path = '/Users/veera/Documents/Biopython/NLP/Keyword Extraction.csv'\n",
    "df = pd.read_csv(path)\n",
    "df.head()"
   ]
  },
  {
   "cell_type": "code",
   "execution_count": 27,
   "metadata": {},
   "outputs": [],
   "source": [
    "\n",
    "stop_words = set(stopwords.words('english'))\n",
    "\n",
    "##Creating a list of custom stopwords\n",
    "new_words = [\"fig\",\"figure\",\"image\",\"sample\",\"using\", \n",
    "             \"show\", \"result\", \"large\", \n",
    "             \"also\", \"one\", \"two\", \"three\", \n",
    "             \"four\", \"five\", \"seven\",\"eight\",\"nine\"]\n",
    "stop_words = list(stop_words.union(new_words))\n",
    "\n"
   ]
  },
  {
   "cell_type": "code",
   "execution_count": 29,
   "metadata": {},
   "outputs": [],
   "source": [
    "def pre_process(text):\n",
    "    \n",
    "    # lowercase\n",
    "    text=text.lower()\n",
    "    \n",
    "    #remove tags\n",
    "    text=re.sub(\"&lt;/?.*?&gt;\",\" &lt;&gt; \",text)\n",
    "    \n",
    "    # remove special characters and digits\n",
    "    text=re.sub(\"(\\\\d|\\\\W)+\",\" \",text)\n",
    "    \n",
    "    ##Convert to list from string\n",
    "    text = text.split()\n",
    "    \n",
    "    # remove stopwords\n",
    "    text = [word for word in text if word not in stop_words]\n",
    "\n",
    "    # remove words less than three letters\n",
    "    text = [word for word in text if len(word) >= 3]\n",
    "\n",
    "    # lemmatize\n",
    "    lmtzr = WordNetLemmatizer()\n",
    "    text = [lmtzr.lemmatize(word) for word in text]\n",
    "    \n",
    "    return ' '.join(text)\n",
    "docs = df['texts'].apply(lambda x:pre_process(x))"
   ]
  },
  {
   "cell_type": "code",
   "execution_count": 30,
   "metadata": {},
   "outputs": [],
   "source": [
    "from sklearn.feature_extraction.text import CountVectorizer\n",
    "#docs = docs.tolist()\n",
    "#create a vocabulary of words, \n",
    "cv=CountVectorizer(max_df=0.95,         # ignore words that appear in 95% of documents\n",
    "                   max_features=10000,  # the size of the vocabulary\n",
    "                   ngram_range=(1,3)    # vocabulary contains single words, bigrams, trigrams\n",
    "                  )\n",
    "word_count_vector=cv.fit_transform(docs)"
   ]
  },
  {
   "cell_type": "code",
   "execution_count": 31,
   "metadata": {},
   "outputs": [
    {
     "data": {
      "text/plain": [
       "TfidfTransformer()"
      ]
     },
     "execution_count": 31,
     "metadata": {},
     "output_type": "execute_result"
    }
   ],
   "source": [
    "from sklearn.feature_extraction.text import TfidfTransformer\n",
    "\n",
    "tfidf_transformer=TfidfTransformer(smooth_idf=True,use_idf=True)\n",
    "tfidf_transformer.fit(word_count_vector)"
   ]
  },
  {
   "cell_type": "code",
   "execution_count": 32,
   "metadata": {},
   "outputs": [],
   "source": [
    "def sort_coo(coo_matrix):\n",
    "    tuples = zip(coo_matrix.col, coo_matrix.data)\n",
    "    return sorted(tuples, key=lambda x: (x[1], x[0]), reverse=True)"
   ]
  },
  {
   "cell_type": "code",
   "execution_count": 33,
   "metadata": {},
   "outputs": [],
   "source": [
    "def extract_topn_from_vector(feature_names, sorted_items, topn=10):\n",
    "    \"\"\"get the feature names and tf-idf score of top n items\"\"\"\n",
    "    \n",
    "    #use only topn items from vector\n",
    "    sorted_items = sorted_items[:topn]\n",
    "\n",
    "    score_vals = []\n",
    "    feature_vals = []\n",
    "\n",
    "    for idx, score in sorted_items:\n",
    "        fname = feature_names[idx]\n",
    "        \n",
    "        #keep track of feature name and its corresponding score\n",
    "        score_vals.append(round(score, 3))\n",
    "        feature_vals.append(feature_names[idx])\n",
    "\n",
    "    #create a tuples of feature,score\n",
    "    #results = zip(feature_vals,score_vals)\n",
    "    results= {}\n",
    "    for idx in range(len(feature_vals)):\n",
    "        results[feature_vals[idx]]=score_vals[idx]\n",
    "    \n",
    "    return results"
   ]
  },
  {
   "cell_type": "code",
   "execution_count": 34,
   "metadata": {},
   "outputs": [],
   "source": [
    "# get feature names\n",
    "feature_names=cv.get_feature_names()\n",
    "\n",
    "def get_keywords(idx, docs):\n",
    "\n",
    "    #generate tf-idf for the given document\n",
    "    tf_idf_vector=tfidf_transformer.transform(cv.transform([docs[idx]]))\n",
    "\n",
    "    #sort the tf-idf vectors by descending order of scores\n",
    "    sorted_items=sort_coo(tf_idf_vector.tocoo())\n",
    "\n",
    "    #extract only the top n; n here is 10\n",
    "    keywords=extract_topn_from_vector(feature_names,sorted_items,10)\n",
    "    \n",
    "    return keywords"
   ]
  },
  {
   "cell_type": "code",
   "execution_count": 36,
   "metadata": {},
   "outputs": [
    {
     "name": "stdout",
     "output_type": "stream",
     "text": [
      "\n",
      "=====Title=====\n",
      "How to get an INFP as an INTJ?\n",
      "\n",
      "=====Texts=====\n",
      "['How to get an INFP as an INTJ', 'god this site is so shitty ignore the triple post', '.', \"shes not interested bro. no idea what you look like but even if you're not uggo, INFP chicks need to be led, conquered - you just sound too high inhib for something like that\", '@Powren You got this man. I\\'ve never dated an INFP. I know quite a few though. Uhh, I mean, with any person you want to grow closer to, the first thing to do is to talk to them.\\n\\nI got a million different strategies I could give you to start this. Have you talked to her yet? If you really genuinely like her character, once you\\'ve talked to her at least a few times, you can tell her \"Hey, I like talking to you, can I buy you a cup of tea at Starbuck and discuss [insert preferred subject here].', 'come on he needs to listen to his gut. undeveloped intjs listen to it all the time but in the face of a possible fu-- i mean possible relationship they suddenly lose all sense of direction. if you arent sure - if you have to ask - then guaranteed shes not interested. besides look how much hes overthinking the few sentences theyve exchanged over the course of months. his head will explode if he has to talk to her uninterrupted for a whole hour over coffee', 'shes dropping all kinds of hints anyway \"i\\'m enjoying being single\" etc. trying to let him down easy because INFPs are nice that way. if she were attracted to him she wouldnt say something like that, she wouldnt limit her options around someone attractive. he needs to either move on (+probably work on himself, intjs are frequently physically and socially ugly) or prepare to hear all about her boyfriend problems one day soon.', \"Well, be nice to her, as an INFP I'm either absolutely attracted to INTJs for their badass vibes or plain cringe when they brag too much. Also INFPs are very shy so you'll need to initiate stuff, but don't rush them, if you'll give her hints occasionally, eventually she'll figure it out.\", 'So at first, thank you all for coming here,', '- Obviously, you should be nice. The only thing I’d consider more attractive than intelligence, is the ability to be tactful.\\n\\n- I have to agree with BlackFeather, arrogance is a major turn off. I don’t care how smart you are, if you’re condescending about it, I won’t be impressed.\\n\\n- Open-mindedness is a must. I love independent thinkers, and those who don’t fall prey to prejudice.\\n\\n- Be accepting/inclusive of everyone. Meaning, don’t be biased against people for shallow reasons like being a little eccentric or nonconforming. INFPs want to feel like they can be themselves around you.\\n\\n- Humor is important. INFPs can often have an impish or zany nature about them. So if you want to get her out of her shell, make her laugh.\\n\\n- Ditch the formalities. INFPs can’t be bothered to care for rules or traditions-- those of which they consider pointless.\\n\\nThe article you linked isn’t too bad. The one I related to the most was: “Your love needs to be unconditional and big enough to contain my dreams and my imperfections. Give me lots of space – lets be in each others orbit. Also show me lots of affection. And have a killer sense of humor.”', 'op’s reply isn’t showing up on the home page but ok bro, just trying to brace you for having your dreams dashed. you might want to step outside yourself for a moment if you can and consider how strongly you’ve sold yourself this story that all her lack of interest is because she’s an introverted little wallflower. My bet is once you finally broach the subject with her she will tell you you’re sweet but she values your friendship too much. Aka she’s not attracted to you. anyway, only trying to help bud, best of luck', 'hmm, ok, I understand. My failure is that I kinda let my emotions screw me. I believe that you are highly probably right. I guess I will try to recover from that and I will probably restrict my communication with her. Thank you for advice and thoughts. I really appreciate that.', 'Also @isochroma, I beg to differ. INTJs are very attractive. Their dark, brooding intensity is beguiling :P', 'another fantastic answer you are absolutely on fire today', \"I types have a hard time meeting other I types of the opposite sex. Its like the I's don't get out of their comfort zones readily and the E types have already swooped in and snatched up all the chicadees, that they lack the patience to appreciate, and keep them hidden wrapped up and constantly preoccupied.\", \"I wouldn't take everything related to MBTI literally. The axis of introversion/extroversion is whole spectrum.\"]\n",
      "\n",
      "===Keywords===\n",
      "infps 0.293\n",
      "intjs 0.2\n",
      "attractive 0.182\n",
      "infp 0.18\n",
      "like 0.167\n",
      "attracted 0.153\n",
      "need 0.149\n",
      "nice 0.141\n",
      "consider 0.133\n",
      "something like 0.13\n"
     ]
    }
   ],
   "source": [
    "def print_results(idx,keywords, df):\n",
    "    # now print the results\n",
    "    print(\"\\n=====Title=====\")\n",
    "    print(df['title'][idx])\n",
    "    print(\"\\n=====Texts=====\")\n",
    "    print(df['texts'][idx])\n",
    "    print(\"\\n===Keywords===\")\n",
    "    for k in keywords:\n",
    "        print(k,keywords[k])\n",
    "idx=443\n",
    "keywords=get_keywords(idx, docs)\n",
    "print_results(idx,keywords, df)"
   ]
  },
  {
   "cell_type": "code",
   "execution_count": null,
   "metadata": {},
   "outputs": [],
   "source": []
  }
 ],
 "metadata": {
  "kernelspec": {
   "display_name": "Python 3",
   "language": "python",
   "name": "python3"
  },
  "language_info": {
   "codemirror_mode": {
    "name": "ipython",
    "version": 3
   },
   "file_extension": ".py",
   "mimetype": "text/x-python",
   "name": "python",
   "nbconvert_exporter": "python",
   "pygments_lexer": "ipython3",
   "version": "3.8.5"
  }
 },
 "nbformat": 4,
 "nbformat_minor": 4
}
